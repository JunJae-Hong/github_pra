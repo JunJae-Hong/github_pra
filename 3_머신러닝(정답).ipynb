{
  "nbformat": 4,
  "nbformat_minor": 0,
  "metadata": {
    "colab": {
      "private_outputs": true,
      "provenance": []
    },
    "kernelspec": {
      "name": "python3",
      "display_name": "Python 3"
    },
    "language_info": {
      "name": "python"
    }
  },
  "cells": [
    {
      "cell_type": "markdown",
      "source": [
        "# [실습-정답] Python을 활용한 AI 모델링 - 머신러닝 파트\n",
        "+ 이번시간에는 Python을 활용한 AI 모델링에서 머신러닝에 대해 실습해 보겠습니다.\n",
        "+ 머신러닝 모델에는 아래와 같이 모델들이 있습니다.\n",
        " + 단일 분류예측 모델 : LogisticRegression, KNN, DecisionTree\n",
        " + 앙상블(Ensemble) 모델 : RandomForest, XGBoost, LGBM, Stacking, Weighted Blending\n",
        "+ 솔직히, 머신러닝이 딥러닝보다 코딩하기 쉽습니다. 4줄 템플릿에 맞쳐 코딩하면 되기 때문입니다.\n",
        "+ 한가지 당부 드리고 싶은 말은 \"백문이불여일타\" 입니다.\n",
        "+ 이론보다 실습이 더 많은 시간과 노력이 투자 되어야 합니다."
      ],
      "metadata": {
        "id": "S5Bb7e25PNTv"
      }
    },
    {
      "cell_type": "markdown",
      "source": [
        "## 학습목차\n",
        "1. 실습준비\n",
        "2. 머신러닝 모델 프로세스\n",
        " - 데이터 가져오기\n",
        " - 데이터 전처리\n",
        " - Train, Test 데이터셋 분할\n",
        " - 데이터 정규화\n",
        " - 단일 분류예측 모델 : LogisticRegression, KNN, DecisionTree\n",
        " - 앙상블(Ensemble) 모델 : RandomForest, XGBoost, LGBM, Stacking, Weighted Blending\n"
      ],
      "metadata": {
        "id": "jwq50DJCPPwy"
      }
    },
    {
      "cell_type": "markdown",
      "source": [
        "# 1. 실습준비"
      ],
      "metadata": {
        "id": "meqVmUjqPRac"
      }
    },
    {
      "cell_type": "code",
      "execution_count": null,
      "metadata": {
        "id": "1a65SfIoN98s"
      },
      "outputs": [],
      "source": [
        "# 코드실행시 경고 메시지 무시\n",
        "\n",
        "import warnings\n",
        "warnings.filterwarnings(action='ignore')"
      ]
    },
    {
      "cell_type": "markdown",
      "source": [
        "# 2. 머신러닝 모델 프로세스\n",
        "① 라이브러리 임포트(import)\n",
        "② 데이터 가져오기(Loading the data)\n",
        "③ 탐색적 데이터 분석(Exploratory Data Analysis)\n",
        "④ 데이터 전처리(Data PreProcessing) : 데이터타입 변환, Null 데이터 처리, 누락데이터 처리,\n",
        "더미특성 생성, 특성 추출 (feature engineering) 등\n",
        "⑤ Train, Test  데이터셋 분할\n",
        "⑥ 데이터 정규화(Normalizing the Data)\n",
        "⑦ 모델 개발(Creating the Model)\n",
        "⑧ 모델 성능 평가"
      ],
      "metadata": {
        "id": "f4z_O-JPm1Xb"
      }
    },
    {
      "cell_type": "markdown",
      "source": [
        "## ① 라이브러리 임포트"
      ],
      "metadata": {
        "id": "iaAXHeA2PUgJ"
      }
    },
    {
      "cell_type": "markdown",
      "source": [
        "##### 필요 라이브러리 임포트"
      ],
      "metadata": {
        "id": "XhQuOzP6PVfE"
      }
    },
    {
      "cell_type": "code",
      "source": [
        "import numpy as np\n",
        "import pandas as pd\n",
        "import matplotlib.pyplot as plt"
      ],
      "metadata": {
        "id": "jGfpwKn_PWZw"
      },
      "execution_count": null,
      "outputs": []
    },
    {
      "cell_type": "markdown",
      "source": [
        "## ② 데이터 로드\n",
        "\n",
        "#### cust_data.csv 파일 컬럼명\n",
        "+ 고객등급(class), 성별(sex), 나이(age), 사용서비스수(service), 서비스중지여부 (stop), 미납여부(npay)\n",
        "+ 3개월 평균 요금(avg_bill), A서비스 3개월 평균요금(A_bill), B서비스 3개월 평균요금(B_bill), 해지여부(termination)"
      ],
      "metadata": {
        "id": "_AhBM1gjPX2Q"
      }
    },
    {
      "cell_type": "code",
      "source": [
        "from impala.dbapi import connect\n",
        "import pandas as pd\n",
        "\n",
        "# Step 1: Impala 연결 설정\n",
        "conn = connect(\n",
        "    host='apramn102.hyundaicapital.com',  # Hue에서 사용하는 Impala 호스트 주소\n",
        "    port=21053,               # Impala 기본 포트\n",
        "    auth_mechanism='GSSAPI'   # 사용할 데이터베이스 이름\n",
        ")\n",
        "\n",
        "# Step 2: SQL 쿼리 실행 및 DataFrame으로 변환\n",
        "query = \"SELECT * FROM hcs_t_bdpedu_l2a.cust;\"\n",
        "df = pd.read_sql(query, conn)\n",
        "\n",
        "# Step 3: 데이터프레임 확인\n",
        "print(df)\n",
        "\n",
        "# Step 4: 연결 닫기\n",
        "conn.close()"
      ],
      "metadata": {
        "id": "n2oT5fnlPZ2q"
      },
      "execution_count": null,
      "outputs": []
    },
    {
      "cell_type": "markdown",
      "source": [
        "## ③ 데이터 분석"
      ],
      "metadata": {
        "id": "ojAdvF1APa5s"
      }
    },
    {
      "cell_type": "code",
      "source": [
        "# 10컬럼, 9930 라인\n",
        "df.info()"
      ],
      "metadata": {
        "id": "spc9vbYqPbwq"
      },
      "execution_count": null,
      "outputs": []
    },
    {
      "cell_type": "code",
      "source": [
        "df.tail()"
      ],
      "metadata": {
        "id": "j4AdGRIRPf0Q"
      },
      "execution_count": null,
      "outputs": []
    },
    {
      "cell_type": "code",
      "source": [
        "df['termination'].values"
      ],
      "metadata": {
        "id": "Sq5XmstCip9r"
      },
      "execution_count": null,
      "outputs": []
    },
    {
      "cell_type": "code",
      "source": [
        "# termination 레이블 불균형\n",
        "df['termination'].value_counts().plot(kind='bar')"
      ],
      "metadata": {
        "id": "LQqRyBObPg57"
      },
      "execution_count": null,
      "outputs": []
    },
    {
      "cell_type": "markdown",
      "source": [
        "## ④ 데이터 전처리"
      ],
      "metadata": {
        "id": "j1yCIfCSPiEI"
      }
    },
    {
      "cell_type": "markdown",
      "source": [
        "+ Object 컬럼에 대해 Pandas get_dummies 함수 활용하여 One-Hot-Encoding"
      ],
      "metadata": {
        "id": "u_hEafL-Pi12"
      }
    },
    {
      "cell_type": "code",
      "source": [
        "# Object 컬럼 리스트 정의\n",
        "#cal_cols =['class', 'sex', 'stop', 'npay', 'termination', 'bill_rating']\n",
        "cal_cols = df.select_dtypes(include='object').columns\n",
        "cal_cols"
      ],
      "metadata": {
        "id": "jKFnKwGYPjtC"
      },
      "execution_count": null,
      "outputs": []
    },
    {
      "cell_type": "code",
      "source": [
        "# pandas get_dummies 함수 사용하여 Object 컬럼에 대해 One-Hot-Encoding 수행\n",
        "df1 = pd.get_dummies(data=df, columns=cal_cols, drop_first=True)"
      ],
      "metadata": {
        "id": "5OlFpEXCPkSJ"
      },
      "execution_count": null,
      "outputs": []
    },
    {
      "cell_type": "code",
      "source": [
        "df['sex'].values"
      ],
      "metadata": {
        "id": "YNM3X5usnYzL"
      },
      "execution_count": null,
      "outputs": []
    },
    {
      "cell_type": "code",
      "source": [
        "# 19컬럼, 7814 라인\n",
        "df1.info()"
      ],
      "metadata": {
        "id": "MayNmZD9PlAd"
      },
      "execution_count": null,
      "outputs": []
    },
    {
      "cell_type": "code",
      "source": [
        "df1.head()"
      ],
      "metadata": {
        "id": "gsUhGUPagvo8"
      },
      "execution_count": null,
      "outputs": []
    },
    {
      "cell_type": "markdown",
      "source": [
        "## ⑤ Train, Test  데이터셋 분할"
      ],
      "metadata": {
        "id": "Gh7SzYvyPmQ3"
      }
    },
    {
      "cell_type": "markdown",
      "source": [
        "#### 입력(X)과 레이블(y) 나누기"
      ],
      "metadata": {
        "id": "rTTU5mY4PnLp"
      }
    },
    {
      "cell_type": "markdown",
      "source": [
        "##### <font color=blue> **[문제] df1 DataFrame에서 'termination_Y' 컬럼을 제외한 나머지 정보를 X에 저장하세요.** </font>"
      ],
      "metadata": {
        "id": "6NmLYRslPoDT"
      }
    },
    {
      "cell_type": "markdown",
      "source": [
        "![Screenshot_8.png](data:image/png;base64,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)"
      ],
      "metadata": {
        "id": "-4gvnHBWyd6E"
      }
    },
    {
      "cell_type": "code",
      "source": [
        "# DataFrame drop 함수 활용\n",
        "# 'termination_Y' 컬럼 삭제\n",
        "# DataFrame에서 values만 X에 저장\n",
        "\n",
        "\n",
        "X = df1.drop('termination_Y', axis=1).values\n",
        "X"
      ],
      "metadata": {
        "id": "wuod_RRnPpAI"
      },
      "execution_count": null,
      "outputs": []
    },
    {
      "cell_type": "markdown",
      "source": [
        "##### <font color=blue> **[문제] df1 DataFrame에서 'termination_Y' 컬럼의 값을 y로 저장하세요.** </font>"
      ],
      "metadata": {
        "id": "1O0uBlVzPq9C"
      }
    },
    {
      "cell_type": "code",
      "source": [
        "y = df1['termination_Y'].values\n",
        "y"
      ],
      "metadata": {
        "id": "k3FC-vpxmDcp"
      },
      "execution_count": null,
      "outputs": []
    },
    {
      "cell_type": "code",
      "source": [
        "X.shape, y.shape"
      ],
      "metadata": {
        "id": "FtLJQH5MPsnP"
      },
      "execution_count": null,
      "outputs": []
    },
    {
      "cell_type": "markdown",
      "source": [
        "#### Train , Test dataset 나누기"
      ],
      "metadata": {
        "id": "kc-bstFdPtpk"
      }
    },
    {
      "cell_type": "code",
      "source": [
        "from sklearn.model_selection import train_test_split"
      ],
      "metadata": {
        "id": "7zlwzZSMPuaT"
      },
      "execution_count": null,
      "outputs": []
    },
    {
      "cell_type": "markdown",
      "source": [
        "##### <font color=blue> **[문제] Train dataset, Test dataset 나누세요.** </font>"
      ],
      "metadata": {
        "id": "-0Rxvtp2Pxhp"
      }
    },
    {
      "cell_type": "code",
      "source": [
        "# Train dataset, Test dataset 나누기 : train_test_split 함수 사용\n",
        "# 입력 : X, y\n",
        "# Train : Test 비율 = 7: 3  --> test_size=0.3\n",
        "# y Class 비율에 맞게 나주어 주세요 : stratify=y\n",
        "# 여러번 수행해도 같은 결과 나오게 고정하기 : random_state=42\n",
        "# 결과 : X_train, X_test, y_train, y_test\n",
        "\n",
        "\n",
        "X_train, X_test, y_train, y_test = train_test_split(X, y,\n",
        "                                                    test_size=0.3,\n",
        "                                                    stratify=y,\n",
        "                                                    random_state=42)"
      ],
      "metadata": {
        "id": "D8KpwAxCPyN0"
      },
      "execution_count": null,
      "outputs": []
    },
    {
      "cell_type": "code",
      "source": [
        "X_train.shape"
      ],
      "metadata": {
        "id": "fAufCIWaPzHV"
      },
      "execution_count": null,
      "outputs": []
    },
    {
      "cell_type": "code",
      "source": [
        "y_train.shape"
      ],
      "metadata": {
        "id": "RvJhghTWPz1_"
      },
      "execution_count": null,
      "outputs": []
    },
    {
      "cell_type": "markdown",
      "source": [
        "## ⑥ 데이터 정규화/스케일링(Normalizing/Scaling)"
      ],
      "metadata": {
        "id": "EgwxC39iP1B0"
      }
    },
    {
      "cell_type": "code",
      "source": [
        "# 숫자 분포 이루어진 컬럼 확인\n",
        "df1.tail()"
      ],
      "metadata": {
        "id": "Af4PVd0SP1uc"
      },
      "execution_count": null,
      "outputs": []
    },
    {
      "cell_type": "code",
      "source": [
        "from sklearn.preprocessing import MinMaxScaler\n",
        "from sklearn.preprocessing import StandardScaler"
      ],
      "metadata": {
        "id": "6Zsv4D4zP2dW"
      },
      "execution_count": null,
      "outputs": []
    },
    {
      "cell_type": "markdown",
      "source": [
        "##### <font color=blue> **[문제] MinMaxScaler 함수를 'scaler'로 정의 하세요.** </font>"
      ],
      "metadata": {
        "id": "Kcz4VfGPP35N"
      }
    },
    {
      "cell_type": "code",
      "source": [
        "# 사이키런의 MinMaxScaler() 함수 활용\n",
        "# 정의할 결과를 'scaler'로 매핑\n",
        "\n",
        "scaler = MinMaxScaler()"
      ],
      "metadata": {
        "id": "K4hGTQcqP423"
      },
      "execution_count": null,
      "outputs": []
    },
    {
      "cell_type": "code",
      "source": [
        "X_train = scaler.fit_transform(X_train)\n",
        "X_test = scaler.transform(X_test)"
      ],
      "metadata": {
        "id": "wTMqssxmP5mj"
      },
      "execution_count": null,
      "outputs": []
    },
    {
      "cell_type": "markdown",
      "source": [
        "+ 모델 입력갯수, 출력갯수 확인"
      ],
      "metadata": {
        "id": "O-6T81dEP7ia"
      }
    },
    {
      "cell_type": "code",
      "source": [
        "X_train[:2], y_train[:2]"
      ],
      "metadata": {
        "id": "It0rg7z7P6WR"
      },
      "execution_count": null,
      "outputs": []
    },
    {
      "cell_type": "markdown",
      "source": [
        "## ⑦ 모델 개발\n"
      ],
      "metadata": {
        "id": "YJ0IOEDGP9zo"
      }
    },
    {
      "cell_type": "markdown",
      "source": [
        "### 1) 로지스틱 회귀 (LogisticRegression, 분류)\n",
        "\n",
        "parameter 소개\n",
        "* C : regularization strength의 역수로써 작으면 작을수록 가중치에 더 강한 regularization이 적용\n",
        "* max_iter :  최적화 방식을 몇번 수행할것인지 정해주는 것"
      ],
      "metadata": {
        "id": "yc9bsy3XQBxy"
      }
    },
    {
      "cell_type": "code",
      "source": [
        "from sklearn.linear_model import LogisticRegression\n",
        "from sklearn.metrics import confusion_matrix\n",
        "from sklearn.metrics import accuracy_score, precision_score, recall_score, f1_score\n",
        "from sklearn.metrics import classification_report"
      ],
      "metadata": {
        "id": "2zsWvfShQCfl"
      },
      "execution_count": null,
      "outputs": []
    },
    {
      "cell_type": "markdown",
      "source": [
        "##### <font color=blue> **[문제] LogisticRegression 모델 정의하고 학습시키세요.** </font>"
      ],
      "metadata": {
        "id": "_jhV053-QDfd"
      }
    },
    {
      "cell_type": "code",
      "source": [
        "# LogisticRegression 함수 사용 및 정의 : lg 저장\n",
        "# 정의된 LogisticRegression 학습 fit() : 입력값으로 X_train, y_train 준다.\n",
        "\n",
        "\n",
        "lg = LogisticRegression()\n",
        "lg.fit(X_train, y_train)"
      ],
      "metadata": {
        "id": "HtgLAsBGQEWi"
      },
      "execution_count": null,
      "outputs": []
    },
    {
      "cell_type": "code",
      "source": [
        "# 분류기 성능 평가(score)\n",
        "#score는 accuracy / r-squared 를 반영하여 점수냄\n",
        "lg.score(X_test, y_test)"
      ],
      "metadata": {
        "id": "9PauWf54QFZc"
      },
      "execution_count": null,
      "outputs": []
    },
    {
      "cell_type": "markdown",
      "source": [
        "###분류기 성능 평가 지표\n",
        "\n",
        "- accuracy_score: 모델이 정답을 맞춘것의 비율\n",
        "- precision_score: 모델이 True로 예측한 데이터중 실제로 True인 데이터\n",
        "- recall_score: 실제로 True인 데이터를 모델이 True라고 인식한 데이터의 비율\n",
        "- f1 score: 정밀도 + 재현율"
      ],
      "metadata": {
        "id": "hJtDZ9pmQGg0"
      }
    },
    {
      "cell_type": "code",
      "source": [
        "lg_pred = lg.predict(X_test)"
      ],
      "metadata": {
        "id": "z7CrtoSdQHP4"
      },
      "execution_count": null,
      "outputs": []
    },
    {
      "cell_type": "code",
      "source": [
        "# 오차행렬\n",
        "# TN  FP\n",
        "# FN  TP\n",
        "\n",
        "confusion_matrix(y_test, lg_pred)"
      ],
      "metadata": {
        "id": "6y3V-o4tQH9M"
      },
      "execution_count": null,
      "outputs": []
    },
    {
      "cell_type": "code",
      "source": [
        "# 정확도 : 굉장히 높다\n",
        "accuracy_score(y_test, lg_pred)"
      ],
      "metadata": {
        "id": "urWpnkUDQI2z"
      },
      "execution_count": null,
      "outputs": []
    },
    {
      "cell_type": "code",
      "source": [
        "# 정밀도\n",
        "precision_score(y_test, lg_pred)"
      ],
      "metadata": {
        "id": "Vtv77H65QJpl"
      },
      "execution_count": null,
      "outputs": []
    },
    {
      "cell_type": "code",
      "source": [
        "# 재현율 : 굉장히 낮다.\n",
        "recall_score(y_test, lg_pred)"
      ],
      "metadata": {
        "id": "mFa2-fhSQKc0"
      },
      "execution_count": null,
      "outputs": []
    },
    {
      "cell_type": "code",
      "source": [
        "# 정밀도 + 재현율\n",
        "f1_score(y_test, lg_pred)"
      ],
      "metadata": {
        "id": "AkIlHzB3QLG_"
      },
      "execution_count": null,
      "outputs": []
    },
    {
      "cell_type": "code",
      "source": [
        "# 'True'는 모델이 올바르게 예측한 경우를 의미\n",
        "# 'False'는 모델의 예측이 잘못된 경우를 의미\n",
        "# Weighted Average는 각 클래스의 샘플 수를 고려하여 평균 점수를 계산하는 방식\n",
        "# Macro Average는 모든 클래스를 동등하게 취급하여 전체 클래스에 걸쳐 평균 성능을 계산하는 방식\n",
        "print(classification_report(y_test, lg_pred))"
      ],
      "metadata": {
        "id": "M_cw6GRMQL2W"
      },
      "execution_count": null,
      "outputs": []
    },
    {
      "cell_type": "code",
      "source": [
        "accuracy_score(y_test,lg_pred)"
      ],
      "metadata": {
        "id": "S5FPJGZhQMyi"
      },
      "execution_count": null,
      "outputs": []
    },
    {
      "cell_type": "markdown",
      "source": [
        "  ### 2) KNN (K-Nearest Neighbor)"
      ],
      "metadata": {
        "id": "z6rHq8s4QOCd"
      }
    },
    {
      "cell_type": "code",
      "source": [
        "from sklearn.neighbors import KNeighborsClassifier"
      ],
      "metadata": {
        "id": "JY5gLZY1QOwJ"
      },
      "execution_count": null,
      "outputs": []
    },
    {
      "cell_type": "code",
      "source": [
        "knn = KNeighborsClassifier(n_neighbors=5)\n",
        "knn.fit(X_train, y_train)"
      ],
      "metadata": {
        "id": "Si5njHOqQPba"
      },
      "execution_count": null,
      "outputs": []
    },
    {
      "cell_type": "code",
      "source": [
        "knn_pred = knn.predict(X_test)"
      ],
      "metadata": {
        "id": "idoHFtJHQQPU"
      },
      "execution_count": null,
      "outputs": []
    },
    {
      "cell_type": "code",
      "source": [
        "recall_score(y_test, knn_pred)"
      ],
      "metadata": {
        "id": "nFhnBSkqn9e4"
      },
      "execution_count": null,
      "outputs": []
    },
    {
      "cell_type": "code",
      "source": [
        "#정밀도를 구하시오"
      ],
      "metadata": {
        "id": "QUI1116yoLjn"
      },
      "execution_count": null,
      "outputs": []
    },
    {
      "cell_type": "code",
      "source": [
        "accuracy_score(y_test,knn_pred)"
      ],
      "metadata": {
        "id": "dQTdq_K9QRuQ"
      },
      "execution_count": null,
      "outputs": []
    },
    {
      "cell_type": "markdown",
      "source": [
        "### 3) 결정트리(DecisionTree)"
      ],
      "metadata": {
        "id": "QWuFDOEZQS4h"
      }
    },
    {
      "cell_type": "code",
      "source": [
        "from sklearn.tree import DecisionTreeClassifier"
      ],
      "metadata": {
        "id": "qfiLlbOHQTjF"
      },
      "execution_count": null,
      "outputs": []
    },
    {
      "cell_type": "code",
      "source": [
        "dt = DecisionTreeClassifier(max_depth=10, random_state=42)\n",
        "dt.fit(X_train, y_train)"
      ],
      "metadata": {
        "id": "-zgOK32aQUSL"
      },
      "execution_count": null,
      "outputs": []
    },
    {
      "cell_type": "markdown",
      "source": [
        "##### <font color=blue> **[문제] 학습된 DecisionTreeClassifier 모델로 예측해 보기** </font>"
      ],
      "metadata": {
        "id": "nZaPBT1NQVhK"
      }
    },
    {
      "cell_type": "code",
      "source": [
        "# DecisionTreeClassifier 학습 모델 : dt\n",
        "# DecisionTreeClassifier 모델의 predict() 활용 : 입력값으로 X_test\n",
        "# 결과 : dt_pred 저장\n",
        "\n",
        "dt_pred = dt.predict(X_test)"
      ],
      "metadata": {
        "id": "nSKvj9IvQWe6"
      },
      "execution_count": null,
      "outputs": []
    },
    {
      "cell_type": "code",
      "source": [
        "accuracy_score(y_test,dt_pred)"
      ],
      "metadata": {
        "id": "yh_RfmjrQXMx"
      },
      "execution_count": null,
      "outputs": []
    },
    {
      "cell_type": "markdown",
      "source": [
        "### **앙상블 기법의 종류**\n",
        "- 배깅 (Bagging): 여러개의 DecisionTree 활용하고 샘플 중복 생성을 통해 결과 도출. RandomForest\n",
        "- 부스팅 (Boosting): 약한 학습기를 순차적으로 학습을 하되, 이전 학습에 대하여 잘못 예측된 데이터에 가중치를 부여해 오차를 보완해 나가는 방식. XGBoost, LGBM\n",
        "- 스태킹 (Stacking): 여러 모델을 기반으로 예측된 결과를 통해 Final 학습기(meta 모델)이 다시 한번 예측"
      ],
      "metadata": {
        "id": "Zac9iXnyQYJq"
      }
    },
    {
      "cell_type": "markdown",
      "source": [
        "### 4) 랜덤포레스트(RandomForest)\n",
        "+ Bagging 대표적인 모델로써, 훈련셋트를 무작위로 각기 다른 서브셋으로 데이터셋을 만들고\n",
        "+ 여러개의 DecisonTree로 학습하고 다수결로 결정하는 모델"
      ],
      "metadata": {
        "id": "z4sHqhOHQaQF"
      }
    },
    {
      "cell_type": "markdown",
      "source": [
        "**주요 Hyperparameter**\n",
        "- random_state: 랜덤 시드 고정 값. 고정해두고 튜닝할 것!\n",
        "- n_jobs: CPU 사용 갯수\n",
        "- max_depth: 깊어질 수 있는 최대 깊이. 과대적합 방지용\n",
        "- n_estimators: 앙상블하는 트리의 갯수\n",
        "- max_features: 최대로 사용할 feature의 갯수. 과대적합 방지용\n",
        "- min_samples_split: 트리가 분할할 때 최소 샘플의 갯수. default=2. 과대적합 방지용"
      ],
      "metadata": {
        "id": "3zqGbozDQbNe"
      }
    },
    {
      "cell_type": "code",
      "source": [
        "from sklearn.ensemble import RandomForestClassifier"
      ],
      "metadata": {
        "id": "yphB50NUQZnU"
      },
      "execution_count": null,
      "outputs": []
    },
    {
      "cell_type": "code",
      "source": [
        "rfc = RandomForestClassifier(n_estimators=3, random_state=42)\n",
        "rfc.fit(X_train, y_train)"
      ],
      "metadata": {
        "id": "NSgSoqeSQc9E"
      },
      "execution_count": null,
      "outputs": []
    },
    {
      "cell_type": "code",
      "source": [
        "rfc_pred = rfc.predict(X_test)"
      ],
      "metadata": {
        "id": "merlC0zrQdsC"
      },
      "execution_count": null,
      "outputs": []
    },
    {
      "cell_type": "code",
      "source": [
        "accuracy_score(y_test,rfc_pred)"
      ],
      "metadata": {
        "id": "d4eX8UF3QeWz"
      },
      "execution_count": null,
      "outputs": []
    },
    {
      "cell_type": "markdown",
      "source": [
        "### 5) Light GBM\n",
        "+ XGBoost와 함께 주목받는 DecisionTree 알고리즘 기반의 Boosting 앙상블 기법\n",
        "+ XGBoost에 비해 학습시간이 짧은 편이다."
      ],
      "metadata": {
        "id": "OeVQoiLqQnsG"
      }
    },
    {
      "cell_type": "markdown",
      "source": [
        "**주요 특징**\n",
        "- scikit-learn 패키지가 아닙니다.\n",
        "- 성능이 우수함\n",
        "- 속도도 매우 빠릅니다."
      ],
      "metadata": {
        "id": "8fxTAiSQQoxf"
      }
    },
    {
      "cell_type": "markdown",
      "source": [
        "**주요 Hyperparameter**\n",
        "- random_state: 랜덤 시드 고정 값. 고정해두고 튜닝할 것!\n",
        "- n_jobs: CPU 사용 갯수\n",
        "- learning_rate: 학습율. 너무 큰 학습율은 성능을 떨어뜨리고, 너무 작은 학습율은 학습이 느리다. 적절한 값을 찾아야함. n_estimators와 같이 튜닝. default=0.1\n",
        "- n_estimators: 부스팅 스테이지 수. (랜덤포레스트 트리의 갯수 설정과 비슷한 개념). default=100\n",
        "- max_depth: 트리의 깊이. 과대적합 방지용. default=3.\n",
        "- colsample_bytree: 샘플 사용 비율 (max_features와 비슷한 개념). 과대적합 방지용. default=1.0"
      ],
      "metadata": {
        "id": "uF-jHusxQp5i"
      }
    },
    {
      "cell_type": "code",
      "source": [
        "!pip install lightgbm"
      ],
      "metadata": {
        "id": "bhzgV7M9Qqzj"
      },
      "execution_count": null,
      "outputs": []
    },
    {
      "cell_type": "code",
      "source": [
        "from lightgbm import LGBMClassifier"
      ],
      "metadata": {
        "id": "ATTISKJ8QsYd"
      },
      "execution_count": null,
      "outputs": []
    },
    {
      "cell_type": "code",
      "source": [
        "lgbm = LGBMClassifier(n_estimators=3, random_state=42)\n",
        "lgbm.fit(X_train, y_train)"
      ],
      "metadata": {
        "id": "gnrqksLiQtU1"
      },
      "execution_count": null,
      "outputs": []
    },
    {
      "cell_type": "code",
      "source": [
        "lgbm_pred = lgbm.predict(X_test)"
      ],
      "metadata": {
        "id": "dqhcRHMJQuEJ"
      },
      "execution_count": null,
      "outputs": []
    },
    {
      "cell_type": "code",
      "source": [
        "accuracy_score(y_test,lgbm_pred)"
      ],
      "metadata": {
        "id": "kNDfrxYVQu9A"
      },
      "execution_count": null,
      "outputs": []
    },
    {
      "cell_type": "markdown",
      "source": [
        "### 6) Stacking"
      ],
      "metadata": {
        "id": "CCZAr-r9Qwkd"
      }
    },
    {
      "cell_type": "markdown",
      "source": [
        "개별 모델이 예측한 데이터를 기반으로 **final_estimator** 종합하여 예측을 수행합니다.\n",
        "- 성능을 극으로 끌어올릴 때 활용하기도 합니다.\n",
        "- 과대적합을 유발할 수 있습니다. (특히, 데이터셋이 적은 경우)"
      ],
      "metadata": {
        "id": "r9vk09JhQxTj"
      }
    },
    {
      "cell_type": "code",
      "source": [
        "from sklearn.ensemble import StackingRegressor, StackingClassifier"
      ],
      "metadata": {
        "id": "pPK1KcobQy7C"
      },
      "execution_count": null,
      "outputs": []
    },
    {
      "cell_type": "code",
      "source": [
        "stack_models = [\n",
        "    ('LogisticRegression', lg),\n",
        "    ('KNN', knn),\n",
        "    ('DecisionTree', dt),\n",
        "]"
      ],
      "metadata": {
        "id": "qzsooLElQzlv"
      },
      "execution_count": null,
      "outputs": []
    },
    {
      "cell_type": "code",
      "source": [
        "# stack_models로 선언된 모델(LogisticRegression,KNN,DecisionTree)의 예측결과를 최종 meta_model(final_estimator)을 RandomForest(rfc) 사용하여 분류 예측\n",
        "stacking = StackingClassifier(stack_models, final_estimator=rfc, n_jobs=-1)"
      ],
      "metadata": {
        "id": "KuQumghXQ0WZ"
      },
      "execution_count": null,
      "outputs": []
    },
    {
      "cell_type": "code",
      "source": [
        "stacking.fit(X_train, y_train)   # 1분 20초 소요"
      ],
      "metadata": {
        "id": "59Aav7t4Q1Rw"
      },
      "execution_count": null,
      "outputs": []
    },
    {
      "cell_type": "code",
      "source": [
        "stacking_pred = stacking.predict(X_test)"
      ],
      "metadata": {
        "id": "CCL0BKQpQ2pD"
      },
      "execution_count": null,
      "outputs": []
    },
    {
      "cell_type": "code",
      "source": [
        "accuracy_score(y_test,stacking_pred)"
      ],
      "metadata": {
        "id": "JN70bf6yQ3af"
      },
      "execution_count": null,
      "outputs": []
    },
    {
      "cell_type": "markdown",
      "source": [
        "### 7) Weighted Blending"
      ],
      "metadata": {
        "id": "HZtU39BHQ45D"
      }
    },
    {
      "cell_type": "markdown",
      "source": [
        "각 모델의 예측값에 대하여 weight를 곱하여 최종 output 계산\n",
        "- 모델에 대한 가중치를 조절하여, 최종 output을 산출합니다.\n",
        "- **가중치의 합은 1.0**이 되도록 합니다."
      ],
      "metadata": {
        "id": "7_0n0P0DQ5qL"
      }
    },
    {
      "cell_type": "code",
      "source": [
        "final_outputs = {\n",
        "    'DecisionTree': dt_pred,\n",
        "    'randomforest': rfc_pred,\n",
        "    'xgb': xgb_pred,\n",
        "    'lgbm': lgbm_pred,\n",
        "    'stacking': stacking_pred,\n",
        "}"
      ],
      "metadata": {
        "id": "jFshIEJuQ6cy"
      },
      "execution_count": null,
      "outputs": []
    },
    {
      "cell_type": "code",
      "source": [
        "final_prediction = (\n",
        "    final_outputs['DecisionTree'].astype(int) * 0.1\n",
        "    + final_outputs['randomforest'].astype(int) * 0.2\n",
        "    + final_outputs['xgb'].astype(int) * 0.25\n",
        "    + final_outputs['lgbm'].astype(int) * 0.15\n",
        "    + final_outputs['stacking'].astype(int) * 0.3\n",
        ")"
      ],
      "metadata": {
        "id": "GV8drZArQ7P5"
      },
      "execution_count": null,
      "outputs": []
    },
    {
      "cell_type": "code",
      "source": [
        "# 가중치 계산값이 0.5 초과하면 1, 그렇지 않으면 0\n",
        "final_prediction = np.where(final_prediction > 0.5, 1, 0)"
      ],
      "metadata": {
        "id": "M2unV9iNQ8Hx"
      },
      "execution_count": null,
      "outputs": []
    },
    {
      "cell_type": "code",
      "source": [
        "accuracy_score(y_test,final_prediction)"
      ],
      "metadata": {
        "id": "d40yQAiDQ9g9"
      },
      "execution_count": null,
      "outputs": []
    },
    {
      "cell_type": "markdown",
      "source": [
        "## 배운 내용 정리\n",
        "1. 머신러닝 모델 프로세스 <br>\n",
        "① 라이브러리 임포트(import)  \n",
        "② 데이터 가져오기(Loading the data)  \n",
        "③ 탐색적 데이터 분석(Exploratory Data Analysis)  \n",
        "④ 데이터 전처리(Data PreProcessing) : 데이터타입 변환, Null 데이터 처리, 누락데이터 처리,\n",
        "더미특성 생성, 특성 추출 (feature engineering) 등  \n",
        "⑤ Train, Test  데이터셋 분할  \n",
        "⑥ 데이터 정규화(Normalizing the Data)  \n",
        "⑦ 모델 개발(Creating the Model)  \n",
        "⑧ 모델 성능 평가\n",
        "2. 평가 지표 활용 : 모델별 성능 확인을 위한 함수 (가져다 쓰면 된다)\n",
        "3. 단일 회귀예측 모델 : LogisticRegression, KNN, DecisionTree\n",
        "4. 앙상블 (Ensemble) : RandomForest, XGBoost, LGBM, Stacking, Weighted Blending"
      ],
      "metadata": {
        "id": "lGcP8dTiQ-xu"
      }
    },
    {
      "cell_type": "code",
      "source": [],
      "metadata": {
        "id": "r9c3XMnBlhSP"
      },
      "execution_count": null,
      "outputs": []
    }
  ]
}
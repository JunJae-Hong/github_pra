{
  "nbformat": 4,
  "nbformat_minor": 0,
  "metadata": {
    "colab": {
      "private_outputs": true,
      "provenance": []
    },
    "kernelspec": {
      "name": "python3",
      "display_name": "Python 3"
    },
    "language_info": {
      "name": "python"
    }
  },
  "cells": [
    {
      "cell_type": "markdown",
      "source": [
        "# [실습] Matplotlib, Seaborn 기본 문법\n",
        "\n",
        "데이터 시각화는 데이터 분석과정에서 매우 중요한 부분입니다.     \n",
        "프로젝트 초기 단계 또는 리포팅 단계에서의 탐색적 데이터 분석(EDA)의 일환으로 결과를 다른 사람과 공유할 때 유용합니다.    \n",
        "또한 데이터를 시각화 하면 값의 분포나 값 사이의 관계를 확인하고 모델링을 위한 가설 도출을 하는데 도움이 됩니다.    \n",
        "\n",
        "<br><br>\n",
        "\n",
        "## 1. Matplotlib 라이브러리\n",
        "\n",
        "### <b>Matplotlib 개요\n",
        "Matplotlib는 파이썬에서 데이터를 차트나 플롯(Plot)으로 그려주는 가장 많이 사용되는 데이터 시각화(Data Visualization) 패키지로 라인 plot, 바 차트, 파이차트, 히스토그램, Box Plot, Scatter Plot 등을 비롯하여 다양한 차트와 plot 스타일을 지원합니다.    \n",
        "웹페이지(https://matplotlib.org/index.html) 에서 다양한 샘플 차트를 볼 수 있습니다."
      ],
      "metadata": {
        "id": "0PCP3q-NzbuY"
      }
    },
    {
      "cell_type": "code",
      "execution_count": null,
      "metadata": {
        "id": "WlGXrfYTzXX8"
      },
      "outputs": [],
      "source": [
        "%matplotlib inline\n",
        "import matplotlib.pyplot as plt"
      ]
    },
    {
      "cell_type": "code",
      "source": [
        "#Matplotlib를 사용하여 간단한 차트를 그리기\n",
        "plt.plot()\n",
        "plt.show()"
      ],
      "metadata": {
        "id": "cCC_bCxLzgBn"
      },
      "execution_count": null,
      "outputs": []
    },
    {
      "cell_type": "markdown",
      "source": [
        "차트 크기 키우기    \n",
        "차트의 크기는 그림을 표시할 영역의 크기를 키움으로 해결 할 수 있습니다.    \n",
        "figsize 옵션을 사용해서 조정 합니다. ( 기본 값은 (6,4) )"
      ],
      "metadata": {
        "id": "UQB5sx8Izh0a"
      }
    },
    {
      "cell_type": "code",
      "source": [
        "plt.figure(figsize=(16,5))\n",
        "plt.plot([1,2,3], [100,120,110])\n",
        "plt.show()"
      ],
      "metadata": {
        "id": "0B8hikddzjBi"
      },
      "execution_count": null,
      "outputs": []
    },
    {
      "cell_type": "markdown",
      "source": [
        "<br><br>\n",
        "## 2. Matplotlib 목적별 차트 그리기\n",
        "### <b> 선그래프(line plot) 그리기\n",
        "선 그래프는 수치의 변화를 선으로 이어서 그려 줍니다.    \n",
        "이 때문에 보통 선그래프는 시간에 따른 데이터의 변화 추세를 볼 때 사용합니다."
      ],
      "metadata": {
        "id": "FxMMhQCzzkTX"
      }
    },
    {
      "cell_type": "code",
      "source": [
        "#주간 일별 최고기온 리포트를 그리기\n",
        "plt.figure()\n",
        "plt.plot([\"Mon\",\"Tue\",\"Wed\",\"Thu\",\"Fri\",\"Sat\",\"Sun\"], [28,30,29,31,32,31,31] )\n",
        "plt.show()"
      ],
      "metadata": {
        "id": "Oa5J7Z5IzlyR"
      },
      "execution_count": null,
      "outputs": []
    },
    {
      "cell_type": "markdown",
      "source": [
        "Pandas에서 선그래프 그리기"
      ],
      "metadata": {
        "id": "VNGxdk_aznbC"
      }
    },
    {
      "cell_type": "code",
      "source": [
        "from impala.dbapi import connect\n",
        "import pandas as pd\n",
        "\n",
        "# Step 1: Impala 연결 설정\n",
        "conn = connect(\n",
        "    host='apramn102.hyundaicapital.com',  # Hue에서 사용하는 Impala 호스트 주소\n",
        "    port=21053,               # Impala 기본 포트\n",
        "    auth_mechanism='GSSAPI'   # 사용할 데이터베이스 이름\n",
        ")\n",
        "\n",
        "# Step 2: SQL 쿼리 실행 및 DataFrame으로 변환\n",
        "query = \"SELECT * FROM hcs_t_bdpedu_l2a.cust;\"\n",
        "df = pd.read_sql(query, conn)\n",
        "\n",
        "# Step 3: 데이터프레임 확인\n",
        "print(df)\n",
        "\n",
        "# Step 4: 연결 닫기\n",
        "conn.close()"
      ],
      "metadata": {
        "id": "bDmc-ePkzpGu"
      },
      "execution_count": null,
      "outputs": []
    },
    {
      "cell_type": "markdown",
      "source": [
        "하나의 열에 대해서만 시각화 하기"
      ],
      "metadata": {
        "id": "SRHHEyETJUDA"
      }
    },
    {
      "cell_type": "code",
      "source": [
        "#avg_bill만으로 그래프 그리기\n",
        "plt.figure(figsize=(50,30))\n",
        "plt.plot(df['avg_bill'])\n",
        "plt.show()"
      ],
      "metadata": {
        "id": "Xk61-MBHJYZI"
      },
      "execution_count": null,
      "outputs": []
    },
    {
      "cell_type": "code",
      "source": [
        "# 문제\n",
        "# a_bill, b_bill으로 그래프를 그리시오"
      ],
      "metadata": {
        "id": "nyLO_dsfstTO"
      },
      "execution_count": null,
      "outputs": []
    },
    {
      "cell_type": "markdown",
      "source": [
        "### <b>산점도 그리기\n",
        "산점도는 키와 몸무게 같은 두 값 간의 관계를 표현 합니다.    \n",
        "두 값이 양의 상관관계인지 음의 상관관계인지를 파악할 수 있습니다.    \n",
        "산점도 위에 회귀선을 하나 그리면 하나의 값에 따라 다른 값이 어떻게 변하는지를 예측 할 수도 있습니다.    \n",
        "plt.scatter()를 사용하고 X와 Y값을 지정해야 합니다."
      ],
      "metadata": {
        "id": "Rf9MsUtZzkR_"
      }
    },
    {
      "cell_type": "code",
      "source": [
        "#avg_bill, age간의 관꼐를 알아보기 위해 산점도 그리기\n",
        "plt.scatter(y=df[\"avg_bill\"], x=df[\"age\"])\n",
        "plt.show()"
      ],
      "metadata": {
        "id": "IE-YodLIJcyQ"
      },
      "execution_count": null,
      "outputs": []
    },
    {
      "cell_type": "markdown",
      "source": [
        "### <b>히스토그램 그리기\n",
        "히스토그램은 수치형 데이터의 분포를 나타 냅니다.    \n",
        "흔히 빈도, 빈도밀도, 확율 등의 분포를 그릴때 사용합니다.    \n",
        "plt.hist()를 사용하며, 구간값(bins)을 정해주지 않으면 10개 구간으로 나누어 그래프를 그려 줍니다."
      ],
      "metadata": {
        "id": "DoGc9ifiJfr9"
      }
    },
    {
      "cell_type": "code",
      "source": [
        "#A_bill에 대한 빈도를 10개 구간으로 그리기\n",
        "# plt.figure()\n",
        "plt.hist(df[\"a_bill\"])\n",
        "plt.show()"
      ],
      "metadata": {
        "id": "AEluNmn7Jg49"
      },
      "execution_count": null,
      "outputs": []
    },
    {
      "cell_type": "code",
      "source": [
        "#age에 대한 빈도를 20개 구간으로 그리기\n",
        "plt.figure()\n",
        "plt.hist(df[\"age\"],bins=20)\n",
        "plt.show()"
      ],
      "metadata": {
        "id": "JrHvZb1ZJiQu"
      },
      "execution_count": null,
      "outputs": []
    },
    {
      "cell_type": "markdown",
      "source": [
        "### <b> 박스 그래프 그리기\n",
        "수치적 자료를 표현하는 그래프입니다.   \n",
        "수치적 자료로부터 얻어낸 통계량인 5가지 요약 수치(최소값, 제 1사분위값, 제 2사분위값, 제 3사분위값, 최대값)를 가지고 그래프를 만듭니다.   \n",
        "plt.boxplot() 명령어를 사용합니다"
      ],
      "metadata": {
        "id": "o2LvdQo0JjyP"
      }
    },
    {
      "cell_type": "code",
      "source": [
        "#데이터프레임 박스플롯만들기\n",
        "df_num = df.select_dtypes(include='number')\n",
        "plt.boxplot(df_num)\n",
        "plt.show()"
      ],
      "metadata": {
        "id": "WDHaiiIcJlg3"
      },
      "execution_count": null,
      "outputs": []
    },
    {
      "cell_type": "markdown",
      "source": [
        "Pandas에서 가로 box plot 그리기    \n",
        "by는 Group화 할 값(컬럼), column은 박스 그래프로 나타낼 값(컬럼)을 넣어주면 됩니다."
      ],
      "metadata": {
        "id": "TbidFEo9JnF5"
      }
    },
    {
      "cell_type": "code",
      "source": [
        "#나이대별 총이용금액 분포를 박스 그래프로 그리기\n",
        "df.boxplot(by=\"by_age\", column=\"avg_bill\", figsize=(16,8))\n",
        "plt.show()"
      ],
      "metadata": {
        "id": "BFT64SCKJoDh"
      },
      "execution_count": null,
      "outputs": []
    },
    {
      "cell_type": "markdown",
      "source": [
        "### <b> 막대 그래프(barplot)\n",
        "막대 그래프는 범주형 데이터의 수치를 요약해서 보여주니다.     \n",
        "일반적으로 가로,세로,누적,그룹화 된 막대 그래프 등을 사용하며, plt.plot()대신 plt.bar() 명령어를 사용 할수있습니다."
      ],
      "metadata": {
        "id": "5FoRgZ3SJpdK"
      }
    },
    {
      "cell_type": "code",
      "source": [
        "#임의의 값 리스트를 생성하고, 생성한 리스트를 사용하여 막대 그래프 그리기\n",
        "y=[5, 3, 7, 10, 9, 5, 3.5, 8]\n",
        "x=list(range(len(y)))\n",
        "\n",
        "plt.figure()\n",
        "plt.bar(x, y)\n",
        "plt.show()"
      ],
      "metadata": {
        "id": "jxYGESIOJqgT"
      },
      "execution_count": null,
      "outputs": []
    },
    {
      "cell_type": "code",
      "source": [
        "#특정 범주형 열에 대해서 막대 그래프 그리기\n",
        "df['termination'].value_counts().plot(kind='bar')"
      ],
      "metadata": {
        "id": "T9iW1CBVe7Cp"
      },
      "execution_count": null,
      "outputs": []
    },
    {
      "cell_type": "markdown",
      "source": [
        "pandas내 pivot_table 함수를 사용하면 쉽게 수치들에 대한 mean/sum/max등을 구할 수 있습니다."
      ],
      "metadata": {
        "id": "BGqv871LJsS5"
      }
    },
    {
      "cell_type": "markdown",
      "source": [
        "## 3. 차트 꾸미기\n",
        "### <b>제목과 축 레이블 추가하기\n",
        "Plot에 X,Y 축 레이블이나 제목을 붙이기 위해서는 plt.xlabel(축이름), plt.ylabel(축이름), plt.title(제목) 등의 함수를 사용합니다."
      ],
      "metadata": {
        "id": "v2h9YS0nJ2h0"
      }
    },
    {
      "cell_type": "code",
      "source": [
        "%matplotlib inline\n",
        "import matplotlib.pyplot as plt"
      ],
      "metadata": {
        "id": "Sh9LqSdSJ3iT"
      },
      "execution_count": null,
      "outputs": []
    },
    {
      "cell_type": "code",
      "source": [
        "#주간 최고기온 그래프 그리기\n",
        "plt.figure()\n",
        "plt.plot([\"Mon\",\"Tue\",\"Wed\",\"Thu\",\"Fri\",\"Sat\",\"Sun\"], [28,30,29,31,32,31,31] )\n",
        "plt.show()"
      ],
      "metadata": {
        "id": "fEMOPyv-J4hA"
      },
      "execution_count": null,
      "outputs": []
    },
    {
      "cell_type": "code",
      "source": [
        "#주간 최고기온 그래프에 표제목과 X축, Y축 이름 넣기\n",
        "plt.figure()\n",
        "plt.plot([\"Mon\",\"Tue\",\"Wed\",\"Thu\",\"Fri\",\"Sat\",\"Sun\"], [28,30,29,31,32,31,31] )\n",
        "plt.xlabel('Day')\n",
        "plt.ylabel('Temp')\n",
        "plt.title('High Temperature')\n",
        "plt.show()"
      ],
      "metadata": {
        "id": "HMW3xZhVJ4eo"
      },
      "execution_count": null,
      "outputs": []
    },
    {
      "cell_type": "markdown",
      "source": [
        "### <b> 한글 폰트 사용하기\n",
        "차트에서 한글을 사용하기 위해서는 아래와 같이 한글을 지원하는 폰트를 설정해 주어야 합니다."
      ],
      "metadata": {
        "id": "cXyeudc6J71J"
      }
    },
    {
      "cell_type": "code",
      "source": [
        "import matplotlib.font_manager as fm\n",
        "fm.findSystemFonts(fontpaths=None, fontext='ttf')"
      ],
      "metadata": {
        "id": "qNS6Y1VAJ9BI"
      },
      "execution_count": null,
      "outputs": []
    },
    {
      "cell_type": "code",
      "source": [
        "#찾은 폰트를 기본 폰트로 설정하기\n",
        "plt.rc('font', family='NanumGothicCoding')\n",
        "plt.rc('axes', unicode_minus=False)"
      ],
      "metadata": {
        "id": "A3GgV172J-JX"
      },
      "execution_count": null,
      "outputs": []
    },
    {
      "cell_type": "code",
      "source": [
        "#주간 최고기온 그래프에 표제목과 X축, Y축 이름을 한글로 넣기\n",
        "plt.plot([\"월\",\"화\",\"수\",\"목\",\"금\",\"토\",\"일\"], [28,30,29,31,32,31,31] )\n",
        "plt.xlabel('일')\n",
        "plt.ylabel('온도')\n",
        "plt.title('일별 최고 기온')\n",
        "plt.show()"
      ],
      "metadata": {
        "id": "HO5PvR8_J_M-"
      },
      "execution_count": null,
      "outputs": []
    },
    {
      "cell_type": "markdown",
      "source": [
        "### <b> 범례 추가하기\n",
        "플롯에 여러 개의 라인들을 추가하기 위해서는 plt.plot()을 plt.show() 이전에 여러 번 사용하면 됩니다.    \n",
        "또한, 각 라인에 대한 범례를 추가하기 위해서는 plt.legend() 함수를 사용하여 각 라인에 대한 범례를 순서대로 지정합니다."
      ],
      "metadata": {
        "id": "RFHsSEPSKA3L"
      }
    },
    {
      "cell_type": "markdown",
      "source": [
        "![Screenshot_6.png](data:image/png;base64,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)"
      ],
      "metadata": {
        "id": "XsM2xEpkczda"
      }
    },
    {
      "cell_type": "code",
      "source": [
        "#두개선을 가지는 임의의 선그래프를 그리고 범례 추가하기\n",
        "plt.plot([1,2,3], [1,4,9])\n",
        "plt.plot([2,3,4],[5,6,7])\n",
        "plt.xlabel('Quarter')\n",
        "plt.ylabel('Score')\n",
        "plt.title('Game Result')\n",
        "plt.legend()\n",
        "plt.show()"
      ],
      "metadata": {
        "id": "i_8xAlf3KCDq"
      },
      "execution_count": null,
      "outputs": []
    },
    {
      "cell_type": "markdown",
      "source": [
        "한줄의 plt.plot이라도 여러개의 X,Y 데이터를 가질수 있으며, plot 여러개를 사용한 것과 같이 다수개의 그래프가 만들어 집니다."
      ],
      "metadata": {
        "id": "TchpUIwxKEPZ"
      }
    },
    {
      "cell_type": "markdown",
      "source": [
        "### <b> 마커활용하기"
      ],
      "metadata": {
        "id": "YmfFNCo-KHPZ"
      }
    },
    {
      "cell_type": "code",
      "source": [
        "x=list(range(0,10))\n",
        "y1=list(range(0,10))\n",
        "y2=list(range(0,20,2))\n",
        "y3=list(range(0,40,4))"
      ],
      "metadata": {
        "id": "oVxn4Hs_KIRg"
      },
      "execution_count": null,
      "outputs": []
    },
    {
      "cell_type": "code",
      "source": [
        "#(x,y1)(x,y2)(x,y3)의 선그래프를 그리기\n",
        "plt.plot(x,y1,x,y2, x, y3)\n",
        "plt.show()"
      ],
      "metadata": {
        "id": "uGxuEtngKJNf"
      },
      "execution_count": null,
      "outputs": []
    },
    {
      "cell_type": "markdown",
      "source": [
        "마커를 변경 하려면, 각 x,y값 뒤에 원하는 스타일 문자열을 넣어줍니다.    \n",
        "스타일 문자열은 색깔(color), 마커(marker), 선 종류(line style)의 순서로 지정하고,    \n",
        "만약 이 중 일부가 생략되면 기본 값이 적용된다.    \n",
        "색, 마커, 선 종류에 대한 설명은 plot의 도움말을 참고하도록 합니다."
      ],
      "metadata": {
        "id": "KVOmLB2kKLqi"
      }
    },
    {
      "cell_type": "code",
      "source": [
        "#3개의 선을 각기 다른 색과 마커, 선을 사용해 표현하기\n",
        "#첫 번째 데이터 시리즈 (x, y1):\n",
        "#색상: 'r' (빨간색)\n",
        "#마커: 없음\n",
        "#선 스타일: '--' (점선)\n",
        "\n",
        "#두 번째 데이터 시리즈 (x, y2):\n",
        "#색상: 'b' (파란색)\n",
        "#마커: 's' (정사각형)\n",
        "#선 스타일: 기본값 (실선)\n",
        "\n",
        "#세 번째 데이터 시리즈 (x, y3):\n",
        "#색상: 'g' (초록색)\n",
        "#마커: '^' (위쪽 삼각형)\n",
        "#선 스타일: ':' (점선)\n",
        "\n",
        "plt.plot(x,y1,'r--', x,y2, 'bs' ,x, y3, 'g^:')\n",
        "plt.show()"
      ],
      "metadata": {
        "id": "zAXFkns9KM4M"
      },
      "execution_count": null,
      "outputs": []
    },
    {
      "cell_type": "markdown",
      "source": [
        "### <b> 여러개의 차트 한번에 그리기\n",
        "지금까지는 하나의 Plot에 여러개의 라인을 추가 하였으나, 한번에 여러개의 plot을 그리는것도 가능합니다.    \n",
        "plt.show를 사용하여 그래프를 출력하기 전에 여러개의 figure를 열면 여러개의 그래프를 한번에 만들 수 있습니다."
      ],
      "metadata": {
        "id": "fDjveerNKOWx"
      }
    },
    {
      "cell_type": "code",
      "source": [
        "x=list(range(0,10))\n",
        "y1=[0,1,2,3,4,5,6,7,8,9]\n",
        "y2=[0,1,4,9,16,25,36,49,64,81]"
      ],
      "metadata": {
        "id": "fgO0ZFJ2KPcB"
      },
      "execution_count": null,
      "outputs": []
    },
    {
      "cell_type": "code",
      "source": [
        "#(x,y), (x,y2)를 두개의 그래프로 동시에 그리기\n",
        "plt.figure()\n",
        "plt.plot(x,y1)\n",
        "plt.figure()\n",
        "plt.plot(x,y2)\n",
        "\n",
        "plt.show()"
      ],
      "metadata": {
        "id": "GALwtxUDKQYR"
      },
      "execution_count": null,
      "outputs": []
    },
    {
      "cell_type": "markdown",
      "source": [
        "subplot을 사용하여 원하는 배치를 해서 한번에 출력하는것도 가능 합니다.    \n",
        "이때 subplot에 넘겨주는 값은 3개의 숫자로 앞에서부터 차례대로 행/열/순서 배치순서가 됩니다."
      ],
      "metadata": {
        "id": "Q8B5mcmfKSZg"
      }
    },
    {
      "cell_type": "markdown",
      "source": [
        "![Screenshot_7.png](data:image/png;base64,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)"
      ],
      "metadata": {
        "id": "yPpmw3gdei0G"
      }
    },
    {
      "cell_type": "code",
      "source": [
        "#subplot을 사용하여 3개의 그래프 영역을 동시에 그리기\n",
        "plt.figure(figsize=(20,12))\n",
        "\n",
        "plt.subplot(221)\n",
        "plt.subplot(222)\n",
        "plt.subplot(212)\n",
        "\n",
        "plt.show()"
      ],
      "metadata": {
        "id": "mW1jaKm4KTl7"
      },
      "execution_count": null,
      "outputs": []
    },
    {
      "cell_type": "markdown",
      "source": [
        "plt.subplot(221)는 2행 2열 배치에 첫번째 영역이 됩니다.    \n",
        "plt.subplot(222)는 2행 2열 배치에 두번째 영역이 됩니다.    \n",
        "plt.subplot(212)는 2행 1열 배치의 두번째 영역 즉, 하단 긴 영역이 됩니다.    "
      ],
      "metadata": {
        "id": "fTcTuWKhKVgX"
      }
    },
    {
      "cell_type": "code",
      "source": [
        "#subplot을 사용하여 임의의 그래프 3개를 동시에 그리기\n",
        "plt.figure(figsize=(20,12))\n",
        "\n",
        "plt.subplot(221)\n",
        "plt.plot([1,2,3], [110,130,120])\n",
        "plt.grid()\n",
        "\n",
        "plt.subplot(222)\n",
        "plt.plot([\"월\",\"화\",\"수\",\"목\",\"금\",\"토\",\"일\"], [28,30,29,31,32,31,31] )\n",
        "plt.xlabel('요일')\n",
        "plt.ylabel('기온')\n",
        "plt.title('최고기온')\n",
        "plt.grid()\n",
        "\n",
        "plt.subplot(212)\n",
        "y = [5, 3, 7, 10, 9, 5, 3.5, 8]\n",
        "x = range(len(y))\n",
        "plt.barh(x, y, height=0.7, color=\"red\")\n",
        "plt.grid()\n",
        "\n",
        "plt.show()"
      ],
      "metadata": {
        "id": "7pgbvwjjKWu4"
      },
      "execution_count": null,
      "outputs": []
    },
    {
      "cell_type": "markdown",
      "source": [
        "## [실습] 수업용 데이터로 그래프 그리기\n",
        "cust_data.csv 데이터를 불러와서 2개의 그래프를 그려봅시다.   \n",
        "   \n",
        "1. 고객의 나이(age) 분포를 확인해 봅시다.\n",
        "    * 20개 구간으로 나누고, X축에는 '나이', Y축에는 '고객수'로 축이름을 설정합니다.\n",
        "\n",
        "\n",
        "2. 나이(age)와 평균 요금(avg_bill)간의 관계를 확인하는 그래프를 그려봅시다.\n",
        "    * 그래프의 크기는 (20,10)으로 설정하고, 색은 녹색으로 합니다"
      ],
      "metadata": {
        "id": "awqMk8nIKbCa"
      }
    },
    {
      "cell_type": "code",
      "source": [
        "# 문제\n",
        "# 위의 문제를 읽고 코드를 작성하시오"
      ],
      "metadata": {
        "id": "7P7UcmS8KmP7"
      },
      "execution_count": null,
      "outputs": []
    },
    {
      "cell_type": "markdown",
      "source": [
        "<br>\n",
        "<br>\n",
        "<br>\n",
        "\n",
        "## 4. Seaborn 라이브러리\n",
        "### <b>Seaborn 개요\n",
        "Seaborn은 Matplotlib을 기반으로 다양한 색상 테마와 통계용 차트 등의 기능을 추가한 시각화 패키지입니다.    \n",
        "기본적인 시각화 기능은 Matplotlib 패키지에 의존하게 됩니다. Seaborn에 대한 자세한 내용은 웹사이트(http://seaborn.pydata.org/ )를 참조하세요.\n",
        "\n",
        "### <b>Seaborn 인스톨 하기"
      ],
      "metadata": {
        "id": "qWDcvABKKorL"
      }
    },
    {
      "cell_type": "code",
      "source": [
        "%pip install seaborn"
      ],
      "metadata": {
        "id": "O_9xBvFOKqPM"
      },
      "execution_count": null,
      "outputs": []
    },
    {
      "cell_type": "code",
      "source": [
        "#seaborn 패키지 불러오기\n",
        "%matplotlib inline\n",
        "import seaborn as sns"
      ],
      "metadata": {
        "id": "cFTngfbIKvZJ"
      },
      "execution_count": null,
      "outputs": []
    },
    {
      "cell_type": "code",
      "source": [
        "#matplotlib 패키지 불러오기\n",
        "#seaborn을 사용할떄는 반드시 Matplotlib 패키지도 함께 불러와야 함\n",
        "import matplotlib.pyplot as plt"
      ],
      "metadata": {
        "id": "fFraRwZVKwor"
      },
      "execution_count": null,
      "outputs": []
    },
    {
      "cell_type": "code",
      "source": [
        "#사용할 데이터 불러오기\n",
        "import pandas as pd\n",
        "df=pd.read_csv(\"/content/cust_data.csv\")\n",
        "df.head()"
      ],
      "metadata": {
        "id": "6GhJ-xmTKyCi"
      },
      "execution_count": null,
      "outputs": []
    },
    {
      "cell_type": "markdown",
      "source": [
        "<br><br>\n",
        "\n",
        "## 5. Seaborn 목적별 차트 그리기\n",
        "### <b> scatterplot     \n",
        "앞서 배웠듯 산점도는 두 값간의 상관관계를 확인해 볼 수 있습니다."
      ],
      "metadata": {
        "id": "ELMoy24NK0gr"
      }
    },
    {
      "cell_type": "code",
      "source": [
        "#avg_bill과 age간의 상관관계를 확인해 봅시다.\n",
        "sns.scatterplot(x='age', y='avg_bill', data=df)\n",
        "plt.show()"
      ],
      "metadata": {
        "id": "sV2dgNUyK2Bn"
      },
      "execution_count": null,
      "outputs": []
    },
    {
      "cell_type": "markdown",
      "source": [
        "### <b> Heatmap (상관관계)\n",
        "상관관계를 확인하기 위해서 주의해야 할 점은 모든 데이터가 'continous'해야 한다는 점입니다.     \n",
        "corr()은 상관관계를 측정 할 수 있는 함수입니다."
      ],
      "metadata": {
        "id": "coufAHgtLUxB"
      }
    },
    {
      "cell_type": "code",
      "source": [
        "df.columns"
      ],
      "metadata": {
        "id": "vFzVmtk75wsi"
      },
      "execution_count": null,
      "outputs": []
    },
    {
      "cell_type": "code",
      "source": [
        "df.corr(numeric_only=True)"
      ],
      "metadata": {
        "id": "5UA6l2V8LWFu"
      },
      "execution_count": null,
      "outputs": []
    },
    {
      "cell_type": "markdown",
      "source": [
        "heatmap은 열을 의미하는 heat와 지도를 뜻하는 map을 합친 단어입니다.     \n",
        "데이터의 배열을 생삭으로 표현해 주는 그래프입니다.     \n",
        "heatmap을 사용하면 두개의 카테고리 값에 대한 값변화를 한 눈에 알기 쉽기 때문 두 값의 상관관계를 나타낼때 주로 사용 합니다."
      ],
      "metadata": {
        "id": "ujf2LXZ5LYGf"
      }
    },
    {
      "cell_type": "code",
      "source": [
        "#컬럼별 상과관계를 heatmap 그래프로 그리기\n",
        "sns.heatmap(df.corr(numeric_only=True), annot = True)\n",
        "plt.show()\n",
        "\n",
        "# '-' 부호 출력 경고를 제거 하기 위한 코드\n",
        "#plt.rc('axes', unicode_minus=False)"
      ],
      "metadata": {
        "id": "3CqAaetfLXwQ"
      },
      "execution_count": null,
      "outputs": []
    },
    {
      "cell_type": "markdown",
      "source": [
        "### <b>boxplot\n",
        "수치적 자료를 표현하는 그래프입니다.      \n",
        "수치적 자료로부터 얻어낸 통계량인 5가지 요약 수치(최소값, 제 1사분위값, 제 2사분위값, 제 3사분위값, 최대값)를 가지고 그리며,     \n",
        "전처리에서 배웠던 describe()함수와 함께 데이터 분포를 확인하는데도 유용하게 사용할수있습니다."
      ],
      "metadata": {
        "id": "Ug18iwwxLcjE"
      }
    },
    {
      "cell_type": "code",
      "source": [
        "# 나이대별 avg_bill에 대한 boxplot 그리기\n",
        "plt.figure(figsize=(16,8))\n",
        "sns.boxplot(data=df,y='avg_bill', x='by_age',width=0.9)\n",
        "plt.show()"
      ],
      "metadata": {
        "id": "VjzQzvKmLeSt"
      },
      "execution_count": null,
      "outputs": []
    }
  ]
}
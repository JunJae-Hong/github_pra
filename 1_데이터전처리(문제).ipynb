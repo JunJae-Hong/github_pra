{
  "nbformat": 4,
  "nbformat_minor": 0,
  "metadata": {
    "colab": {
      "private_outputs": true,
      "provenance": []
    },
    "kernelspec": {
      "name": "python3",
      "display_name": "Python 3"
    },
    "language_info": {
      "name": "python"
    }
  },
  "cells": [
    {
      "cell_type": "markdown",
      "source": [
        "# Python 활용한 데이터 전처리/시각화\n",
        "# Chapter 1. 데이터 전처리\n",
        "\n",
        "데이터 분석/AI 모델링을 위하여 데이터를 정제하는 전처리 방법을 실습해 봅시다.    \n",
        "우선 확보한 데이터를 전처리를 위해 불러옵니다.     "
      ],
      "metadata": {
        "id": "BFU5ZAJIzSDz"
      }
    },
    {
      "cell_type": "code",
      "source": [
        "# 판다스 불러오기\n",
        "import pandas as pd"
      ],
      "metadata": {
        "id": "sNf2f-oDw5o9"
      },
      "execution_count": null,
      "outputs": []
    },
    {
      "cell_type": "code",
      "source": [
        "from impala.dbapi import connect\n",
        "import pandas as pd\n",
        "\n",
        "# Step 1: Impala 연결 설정\n",
        "conn = connect(\n",
        "    host='apramn102.hyundaicapital.com',  # Hue에서 사용하는 Impala 호스트 주소\n",
        "    port=21053,               # Impala 기본 포트\n",
        "    auth_mechanism='GSSAPI'   # 사용할 데이터베이스 이름\n",
        ")\n",
        "\n",
        "# Step 2: SQL 쿼리 실행 및 DataFrame으로 변환\n",
        "query = \"SELECT * FROM hcs_t_bdpedu_l2a.sc_cust;\"\n",
        "df = pd.read_sql(query, conn)\n",
        "\n",
        "# Step 3: 데이터프레임 확인\n",
        "print(df)\n",
        "\n",
        "# Step 4: 연결 닫기\n",
        "conn.close()"
      ],
      "metadata": {
        "id": "cehvuPNrw7TA"
      },
      "execution_count": null,
      "outputs": []
    },
    {
      "cell_type": "code",
      "source": [
        "print(df)"
      ],
      "metadata": {
        "id": "zS-ykkYew8r0"
      },
      "execution_count": null,
      "outputs": []
    },
    {
      "cell_type": "markdown",
      "source": [
        "## 1. 데이터 탐색하기\n",
        "### <b>데이터 확인하기</b>\n",
        "Dataframe에서 제공하는 메소드를 활용하여 데이터의 구성을 확인합니다.    \n",
        "info는 데이터 구성과 특성을 확인해 볼 수 있습니다"
      ],
      "metadata": {
        "id": "T-rSSkPuxBVf"
      }
    },
    {
      "cell_type": "code",
      "source": [
        "df.info()"
      ],
      "metadata": {
        "id": "htZmPfe7xCZj"
      },
      "execution_count": null,
      "outputs": []
    },
    {
      "cell_type": "code",
      "source": [
        "df.head()"
      ],
      "metadata": {
        "id": "wqQ-_QhmxExt"
      },
      "execution_count": null,
      "outputs": []
    },
    {
      "cell_type": "code",
      "source": [
        "df.tail()"
      ],
      "metadata": {
        "id": "3wPWTA6RxFJI"
      },
      "execution_count": null,
      "outputs": []
    },
    {
      "cell_type": "code",
      "source": [
        "df.describe()"
      ],
      "metadata": {
        "id": "SuDTO5b9xH7a"
      },
      "execution_count": null,
      "outputs": []
    },
    {
      "cell_type": "markdown",
      "source": [
        "### <b>필요한 컬럼만 추출하기</b>\n",
        "수집한 데이터의 컬럼이 너무 많을 경우 데이터 처리에 불필요한 시간과 자원이 계속 소모 되기에,     \n",
        "이번 수업에서는 필요한 컬럼만 추출하여 데이터처리를 하도록 하겠습니다.    \n",
        "실제 분석/모델링에서는 어떤 컬럼이 중요할지 알수 없기 떄문에 자원이 가능한 많은 데이터를 가지고 하셔도 좋습니다."
      ],
      "metadata": {
        "id": "iTromcjVxEZS"
      }
    },
    {
      "cell_type": "code",
      "source": [
        "#데이터 처리에 필요한 10개 항목만 추출\n",
        "#고객등급(cust_class), 성별(sex_type), 나이(age), 사용서비스수(efct_svc_count), 서비스중지여부 (dt_stop_yn), 미납여부(npay_yn)\n",
        "#3개월 평균 요금(r3m_avg_bill_amt), A서비스 3개월 평균요금(r3m_A_avg_arpu_amt), B서비스 3개월 평균요금(r3m_B_avg_arpu_amt), 해지여부(termination_yn)\n",
        "cust=df[[\"cust_class\",\"sex_type\",\"age\",\"efct_svc_count\",\"dt_stop_yn\",\"npay_yn\",\"r3m_avg_bill_amt\",\"r3m_A_avg_arpu_amt\",\"r3m_B_avg_arpu_amt\", \"termination_yn\"]]\n",
        "cust.head()"
      ],
      "metadata": {
        "id": "pwmjSTBTxLxk"
      },
      "execution_count": null,
      "outputs": []
    },
    {
      "cell_type": "markdown",
      "source": [
        "실습의 편의를 위해 컬럼명을 조금 더 간결하고 직관적으로 변경해 보겠습니다.     \n",
        "실제 여러명이 동시에 진행하는 분석 프로젝트나 모델링에서는 정해진 네이밍 룰에 따라 변경하거나 원천 컬럼명을 그대로 사용하는 것이 좋습니다."
      ],
      "metadata": {
        "id": "K6l7t4wfxNwi"
      }
    },
    {
      "cell_type": "code",
      "source": [
        "# 컬럼명을 간결하고 직관적으로 변경해 줍시다.\n",
        "cust=cust.rename(columns = {\"cust_class\" : 'class',\"sex_type\":'sex', \"efct_svc_count\":'service', \"dt_stop_yn\":'stop',\"npay_yn\":'npay', \"r3m_avg_bill_amt\":'avg_bill', \"r3m_A_avg_arpu_amt\":\"A_bill\", \"r3m_B_avg_arpu_amt\":'B_bill', \"termination_yn\":'termination'})\n",
        "cust.head()"
      ],
      "metadata": {
        "id": "CXrt7p9KxO8a"
      },
      "execution_count": null,
      "outputs": []
    },
    {
      "cell_type": "code",
      "source": [
        "cust.info()"
      ],
      "metadata": {
        "id": "Nfe4AanGxQs-"
      },
      "execution_count": null,
      "outputs": []
    },
    {
      "cell_type": "markdown",
      "source": [
        "## 2. 결측치 처리하기\n",
        "### <span style=\"color:RED\">주의!!</span> 데이터 결측치 처리시 반드시 원본 데이터를 COPY 해서 사용할것!!\n",
        "파이썬에서 Copy 메소드를 사용하지 않으면 주소값을 복사해서 사용기 때문에 원본 값을 변경 시키게 됩니다.\n",
        "따라서 원본 항목을 보전하면서 데이터를 보정하려면 copy 메소드를 사용 해주셔야 합니다."
      ],
      "metadata": {
        "id": "xokywZ2QOs78"
      }
    },
    {
      "cell_type": "markdown",
      "source": [
        "### <b>결측치 채우기 </b>"
      ],
      "metadata": {
        "id": "fR_jVFPcxtOX"
      }
    },
    {
      "cell_type": "markdown",
      "source": [
        "다음은 사용자가 지정하는 단일값으로 채워서 결측치를 처리하는 방법입니다."
      ],
      "metadata": {
        "id": "ZqXwP81zxukw"
      }
    },
    {
      "cell_type": "code",
      "source": [
        "cust.head()"
      ],
      "metadata": {
        "id": "SSq1ERck-X0r"
      },
      "execution_count": null,
      "outputs": []
    },
    {
      "cell_type": "code",
      "source": [
        "#fillna 함수를 사용해서 특정 숫자나 문자로 결측치를 처리하는 방법\n",
        "cust=cust.fillna(15)\n",
        "cust.head()"
      ],
      "metadata": {
        "id": "_vmNAehIxvgg"
      },
      "execution_count": null,
      "outputs": []
    },
    {
      "cell_type": "code",
      "source": [
        "cust.info()"
      ],
      "metadata": {
        "id": "K2RDrqtKxwhL"
      },
      "execution_count": null,
      "outputs": []
    },
    {
      "cell_type": "markdown",
      "source": [
        "fillna의 Method 파라미터를 사용하면,     \n",
        "사용자가 지정하는 일괄적인 값이 아닌 주변값을 활용하여 결측치를 채울수 있습니다.\n",
        "주의! Method 파리미터사용시 첫 Record 또는 마지막 Record가 결측치 인지 확인해야 합니다.  "
      ],
      "metadata": {
        "id": "2kauSLFMxyWk"
      }
    },
    {
      "cell_type": "code",
      "source": [
        "# 뒤에 있는 data를 사용해서 결측치를 처리하는 방법\n",
        "cust=cust_fix.copy()\n",
        "cust=cust.fillna(method='bfill')\n",
        "cust.head()"
      ],
      "metadata": {
        "id": "MUXdGubqxz9m"
      },
      "execution_count": null,
      "outputs": []
    },
    {
      "cell_type": "code",
      "source": [
        "# 앞에 있는 data를 사용해서 결측치를 처리하는 방법\n",
        "cust=cust_fix.copy()\n",
        "cust=cust.fillna(method='ffill')\n",
        "cust.head()"
      ],
      "metadata": {
        "id": "x7ssIWEXx1Id"
      },
      "execution_count": null,
      "outputs": []
    },
    {
      "cell_type": "markdown",
      "source": [
        "fillna 내 기술 통계량을 사용하면,\n",
        "사용자가 원하는 값(중위값, 평균값, 최대값, 최솟값)으로 채울 수 있습니다"
      ],
      "metadata": {
        "id": "9wHP9uS9LJW6"
      }
    },
    {
      "cell_type": "code",
      "source": [
        "# 기술통계량을 사용해서 결측치를 처리하는 방법\n",
        "# 원본을 변경하고 싶을 때는 inplace = True를 활용\n",
        "cust=cust_fix.copy()\n",
        "cust.fillna(df['age'].mean(), inplace=False)\n",
        "cust.head()"
      ],
      "metadata": {
        "id": "p2a2k_3XKJLV"
      },
      "execution_count": null,
      "outputs": []
    },
    {
      "cell_type": "code",
      "source": [
        "# 문제\n",
        "# fillna 메서드를 활용하여 age 컬럼의 결측치를 중위값(median)으로 채우시오\n",
        "cust=cust_fix.copy()\n"
      ],
      "metadata": {
        "id": "8d33ZTghL82f"
      },
      "execution_count": null,
      "outputs": []
    },
    {
      "cell_type": "markdown",
      "source": [
        "\n",
        "\n",
        "### <b>결측치 제거하기</b>\n",
        "결측치를 채우기로 처리하다보면 경우에 따라 값의 왜곡이 크게 발생하는 발생 하는 경우가 있습니다.    \n",
        "이때는 제거하기 기법을 사용하여 결측치를 처리하면 데이터의 정합성을 보존 할 수 있습니다.\n",
        "\n",
        "* listwise 방식 : record의 항목 중 1개의 값이라도 NA이면 해당 데이터 행 전체 제거\n",
        "* pairwise 방식 : 모든 항목이 NA인 데이터 행만 제거"
      ],
      "metadata": {
        "id": "PbHkANk_NY36"
      }
    },
    {
      "cell_type": "code",
      "source": [
        "#listwise 방식으로 제거 하기\n",
        "#listwise 방식이 디폴트\n",
        "# axis = 0 이 디폴트\n",
        "cust=cust_fix.copy()\n",
        "cust=cust.dropna(how='any')\n",
        "cust.info()"
      ],
      "metadata": {
        "id": "vothzn8ANcxm"
      },
      "execution_count": null,
      "outputs": []
    },
    {
      "cell_type": "code",
      "source": [
        "#pairwise 방식으로 제거하기\n",
        "cust=cust_fix.copy()\n",
        "cust=cust.dropna(how='all')\n",
        "cust.info()"
      ],
      "metadata": {
        "id": "Uv9_Dwb9NdQX"
      },
      "execution_count": null,
      "outputs": []
    },
    {
      "cell_type": "markdown",
      "source": [
        "NA의 갯수에 따라 결측데이터를 판단하고자 한다면, thresh 파라미터를 사용하면 됩니다.    \n",
        "NA가 아닌값이 n개 이상인 경우만 남겨라는 뜻으로 해석하면 됩니다."
      ],
      "metadata": {
        "id": "yDdI_ZcBNkVu"
      }
    },
    {
      "cell_type": "code",
      "source": [
        "#임계치를 설정해서 제거하기\n",
        "cust=cust_fix.copy()\n",
        "cust=cust.dropna(thresh=10)\n",
        "cust.info()"
      ],
      "metadata": {
        "id": "5f7o2FZkNetU"
      },
      "execution_count": null,
      "outputs": []
    },
    {
      "cell_type": "code",
      "source": [
        "# 특정열 안에서만 삭제하기|\n",
        "cust=cust_fix.copy()\n",
        "cust=cust.dropna(subset=['age'])\n",
        "cust.info()"
      ],
      "metadata": {
        "id": "Kj0dZ4SJNp13"
      },
      "execution_count": null,
      "outputs": []
    },
    {
      "cell_type": "markdown",
      "source": [
        "특정 열에 있는 NA만 참고하여 결측치를 제거하려면 Subset 파라미터를 사용하면 됩니다."
      ],
      "metadata": {
        "id": "6FdJtFG_Nni7"
      }
    },
    {
      "cell_type": "markdown",
      "source": [
        "### <b>데이터 타입 변경하기</b>\n",
        "데이터를 불러온 후에는 반드시 데이터 타입을 확인해 주시는것이 좋습니다.    \n",
        "숫자형 데이터가 문자형으로 지정되어 있거나 혹은 그반의 경우 원하는 데이터 처리 결과가 도출 되지 않을 수 있습니다."
      ],
      "metadata": {
        "id": "3F1Yk8XjxTLV"
      }
    },
    {
      "cell_type": "code",
      "source": [
        "cust.dtypes"
      ],
      "metadata": {
        "id": "6S7b1tDb2qff"
      },
      "execution_count": null,
      "outputs": []
    },
    {
      "cell_type": "code",
      "source": [
        "#age 항목의 type 변경\n",
        "cust=cust.astype({'age': int })\n",
        "#cust['age'] = cust['age'].astype(int)"
      ],
      "metadata": {
        "id": "e9sttZqyxdHM"
      },
      "execution_count": null,
      "outputs": []
    },
    {
      "cell_type": "code",
      "source": [
        "cust.info()"
      ],
      "metadata": {
        "id": "FRK8SYsrxeZa"
      },
      "execution_count": null,
      "outputs": []
    },
    {
      "cell_type": "code",
      "source": [
        "cust.head()"
      ],
      "metadata": {
        "id": "_h0xwFQyxftV"
      },
      "execution_count": null,
      "outputs": []
    },
    {
      "cell_type": "markdown",
      "source": [
        "## 3. 이상치 처리하기\n",
        "### <b>범주형 데이터 이상치 처리 하기</b>\n",
        "범주형 데이터의 경우 value_counts 메소드를 사용하면, 값의 분포와 함께 Trash 값이 있는지도 확인 가능합니다."
      ],
      "metadata": {
        "id": "pPKe-X3vyRaW"
      }
    },
    {
      "cell_type": "code",
      "source": [
        "#범주형 데아터의 값 분포 확인하기\n",
        "print(cust['sex'].value_counts())\n",
        "print(cust['class'].value_counts())\n",
        "print(cust['npay'].value_counts())"
      ],
      "metadata": {
        "id": "6ieL7ohvySrg"
      },
      "execution_count": null,
      "outputs": []
    },
    {
      "cell_type": "markdown",
      "source": [
        "Class의 값에는 'C, D, E, F, G, H'가 들어있는것을 확인할수 있습니다.    \n",
        "실제로 그렇지는 않지만 'H'가 실제로는 존재하지 않는 값이라고 가정해 봅시다.    \n",
        "이상치를 처리하는 방법은 제거하기와 변경하기가 있습니다."
      ],
      "metadata": {
        "id": "bZwSZ6boyUDo"
      }
    },
    {
      "cell_type": "code",
      "source": [
        "#이상치 제거하기\n",
        "cust_data=cust[(cust['class']!='H')]\n",
        "print(cust_data['class'].value_counts())"
      ],
      "metadata": {
        "id": "Bi4D5EOwyVSY"
      },
      "execution_count": null,
      "outputs": []
    },
    {
      "cell_type": "code",
      "source": [
        "# 문제\n",
        "# cust의 age 컬럼 내 75세 초과는 이상치로 규정, 75세 초과 삭제\n",
        "# 이상치가 제거된 버전의 데이터프레임명은 cust_data2\n"
      ],
      "metadata": {
        "id": "7iPP5PzhSbyA"
      },
      "execution_count": null,
      "outputs": []
    },
    {
      "cell_type": "code",
      "source": [
        "#이상치 변경하기\n",
        "cust_data=cust.copy()\n",
        "cust_data['class']=cust_data['class'].replace('H','F')\n",
        "print(cust_data['class'].value_counts())"
      ],
      "metadata": {
        "id": "F7cX2YSZyWdf"
      },
      "execution_count": null,
      "outputs": []
    },
    {
      "cell_type": "markdown",
      "source": [
        "### <b>수치형 데이터 이상치 처리 하기</b>\n",
        "describe 함수를 사용해서 수치형 변수의 기술 통계를 확인 할 수 있습니다."
      ],
      "metadata": {
        "id": "glEOaNVayXiH"
      }
    },
    {
      "cell_type": "code",
      "source": [
        "cust.describe()"
      ],
      "metadata": {
        "id": "HHAFM3ziyYqA"
      },
      "execution_count": null,
      "outputs": []
    },
    {
      "cell_type": "markdown",
      "source": [
        "Q1와 Q3가 거리의 1.5배가 넘어가는 값을 Outlier 라고 합니다.    \n",
        "이 값들은 이상치로써 일반적으로 제거 또는 변경하여 데이터를 분석,학습 합니다.    \n",
        "단, 이상치 분석시에는 제거하지 않습니다.    "
      ],
      "metadata": {
        "id": "rteLGd11yaPP"
      }
    },
    {
      "cell_type": "code",
      "source": [
        "#이상치를 제거하는 함수 만들기\n",
        "def removeOutliers(x, column):\n",
        "    # Q1, Q3구하기\n",
        "    q1 = x[column].quantile(0.25)\n",
        "    q3 = x[column].quantile(0.75)\n",
        "\n",
        "    # 1.5 * IQR(Q3 - Q1)\n",
        "    iqr = 1.5 * (q3 - q1)\n",
        "\n",
        "    # 이상치를 제거\n",
        "    y=x[(x[column] < (q3 + iqr)) & (x[column] > (q1 - iqr))]\n",
        "\n",
        "    return(y)"
      ],
      "metadata": {
        "id": "oBKipr4jybfX"
      },
      "execution_count": null,
      "outputs": []
    },
    {
      "cell_type": "code",
      "source": [
        "#연속형 데이터의 이상치 제거하기\n",
        "cust_data=removeOutliers(cust, 'avg_bill')\n",
        "cust_data.describe()"
      ],
      "metadata": {
        "id": "igI-2pfYycyA"
      },
      "execution_count": null,
      "outputs": []
    },
    {
      "cell_type": "code",
      "source": [
        "cust_data.info()"
      ],
      "metadata": {
        "id": "vFpk-6iayd20"
      },
      "execution_count": null,
      "outputs": []
    },
    {
      "cell_type": "code",
      "source": [
        "# 동일한 함수로 나머지 연속형 변수에 대해서도 이상치를 처리\n",
        "cust_data=removeOutliers(cust_data, 'A_bill')\n",
        "cust_data=removeOutliers(cust_data, 'B_bill')\n",
        "cust_data.describe()"
      ],
      "metadata": {
        "id": "UBtORKkSye31"
      },
      "execution_count": null,
      "outputs": []
    },
    {
      "cell_type": "code",
      "source": [
        "cust_data.info()"
      ],
      "metadata": {
        "id": "mS03wY5Kygb7"
      },
      "execution_count": null,
      "outputs": []
    },
    {
      "cell_type": "markdown",
      "source": [
        "<br><br>\n",
        "\n",
        "## 4. Feature Engineering\n",
        "초기 데이터로부터 특징을 가공하고 생산하여 입력 데이터를 생성하는 과정을 Feature Engineering이라고 합니다.\n",
        "Feature Engineering을 통해 AI가 학습하기 좋은 형태로 데이터를 만들거나,\n",
        "새로운 입력 데이터를 생성 할수 있습니다.\n",
        "이때 데이터를 수정하지 않도록 주의 합니다."
      ],
      "metadata": {
        "id": "rJ6HnG_DUlNT"
      }
    },
    {
      "cell_type": "code",
      "source": [
        "cust_data.head()"
      ],
      "metadata": {
        "id": "4Po3Btn2yptr"
      },
      "execution_count": null,
      "outputs": []
    },
    {
      "cell_type": "markdown",
      "source": [
        "### <b>Binning</b>\n",
        "Binning은 단어 뜻 그대로 자료를 일정한 규격의 통에 넣는것 입니다.\n",
        "만약 관측치가 연속형이면서 범위가 너무 다양할 경우, 적절히 그룹을 지어주면 데이터를 이해하기가 더 쉬워질수 있기에 사용합니다.\n",
        "즉, 연속형 변수를 범주형 변수로 만드는 방법이라고 보시면 됩니다."
      ],
      "metadata": {
        "id": "J9b4B_N5Up70"
      }
    },
    {
      "cell_type": "code",
      "source": [
        "# age를 활용하여 나이대(\"by_age\")  Feature 만들기\n",
        "cust_data['by_age']=cust_data['age']//10*10\n",
        "cust_data=cust_data.astype({'age': int, 'by_age':int})"
      ],
      "metadata": {
        "id": "L5Y5fEPxysZ8"
      },
      "execution_count": null,
      "outputs": []
    },
    {
      "cell_type": "code",
      "source": [
        "cust_data.head()"
      ],
      "metadata": {
        "id": "c6L_uUjeytjG"
      },
      "execution_count": null,
      "outputs": []
    },
    {
      "cell_type": "markdown",
      "source": [
        "#### cut\n",
        "Cut 함수를 사용하면 구간을 지정해서 쉽게 범주화 할 수 있습니다.    \n",
        "Bins 구간 사이의 값을 범주화 하여 Label에 지정된 카테고리명을 사용합니다.\n",
        "\n"
      ],
      "metadata": {
        "id": "Nslu17I6yvxG"
      }
    },
    {
      "cell_type": "code",
      "source": [
        "q1=cust_data['avg_bill'].quantile(0.25)\n",
        "q3=cust_data['avg_bill'].quantile(0.75)\n",
        "print(q1,q3)"
      ],
      "metadata": {
        "id": "oCBemqjnyvAI"
      },
      "execution_count": null,
      "outputs": []
    },
    {
      "cell_type": "code",
      "source": [
        "#cut 메소드를 활용하여 요금을 3개 구간으로 나누기\n",
        "cust_data['bill_rating'] = pd.cut(cust_data[\"avg_bill\"], bins=[0,q1,q3,cust_data[\"avg_bill\"].max()] , labels=['low', 'mid','high'])\n",
        "cust_data.head()"
      ],
      "metadata": {
        "id": "TTsPQLndyyOu"
      },
      "execution_count": null,
      "outputs": []
    },
    {
      "cell_type": "code",
      "source": [
        "print(cust_data['bill_rating'].value_counts())"
      ],
      "metadata": {
        "id": "3r806SZ8yzwi"
      },
      "execution_count": null,
      "outputs": []
    },
    {
      "cell_type": "markdown",
      "source": [
        "#### qcut\n",
        "cut비슷하지만 같은 크기로 구간을 나누어 범주형 변수로 만듭니다"
      ],
      "metadata": {
        "id": "fuhc3OJ-y1Nt"
      }
    },
    {
      "cell_type": "code",
      "source": [
        "#qcut 메소드를 활용하여 요금을 동일 비율로 3개 구간으로 나누기\n",
        "cust_data['bill_rating'] = pd.qcut(cust_data[\"avg_bill\"], 3 , labels=['low', 'mid','high'])\n",
        "cust_data.head()"
      ],
      "metadata": {
        "id": "WtRbWGr5y2RV"
      },
      "execution_count": null,
      "outputs": []
    },
    {
      "cell_type": "code",
      "source": [
        "print(cust_data['bill_rating'].value_counts())"
      ],
      "metadata": {
        "id": "H-gDsXDjy3tK"
      },
      "execution_count": null,
      "outputs": []
    },
    {
      "cell_type": "markdown",
      "source": [
        "### <b>Scaling\n",
        "각 컬럼에 들어있는 데이터의 상대적 크기에 따라 분석 결과나 모델링 결과가 달라질수 있습니다.    \n",
        "0 ~ 1000까지의 값을 가지는 변수 A와 0 ~ 10까지의 값을 가지는 변수 B를 가지고 분석을 수행하면 상대적으로 큰 숫자를 가지는 A변수의 영향이 더 크게 반영 됩니다.    \n",
        "따라서, 숫자데이터는 상대적 크기 차이를 제거할 필요가 있고, 이를 scaling이라고 합니다.    \n",
        "\n",
        "#### Standardization\n",
        "정규 분포를 평균이 0 이고 분산이 1 인  표준 정규 분포로 변환합니다."
      ],
      "metadata": {
        "id": "hZKGHY-Ey5Tk"
      }
    },
    {
      "cell_type": "code",
      "source": [
        "cust_data_num = cust_data[['avg_bill', 'A_bill', 'B_bill']]\n",
        "#표준화\n",
        "Standardization_df = (cust_data_num - cust_data_num.mean())/cust_data_num.std()\n",
        "Standardization_df.head()"
      ],
      "metadata": {
        "id": "-MOR0Uu0y6gS"
      },
      "execution_count": null,
      "outputs": []
    },
    {
      "cell_type": "code",
      "source": [
        "Standardization_df.describe()"
      ],
      "metadata": {
        "id": "eyTQTDXuy8Uj"
      },
      "execution_count": null,
      "outputs": []
    },
    {
      "cell_type": "markdown",
      "source": [
        "####  MinMax Scaler (nomalization)\n",
        "값들을 모두 0과 1사이의 값으로 변환합니다."
      ],
      "metadata": {
        "id": "72Eehfjwy-Z4"
      }
    },
    {
      "cell_type": "code",
      "source": [
        "#사이킷런 패키지의 MinMaxScaler를 이용하여  Scaling 하기\n",
        "from sklearn.preprocessing import MinMaxScaler\n",
        "\n",
        "scaler=MinMaxScaler()\n",
        "\n",
        "normalization_df=cust_data_num.copy()\n",
        "normalization_df[:]=scaler.fit_transform(normalization_df[:])\n",
        "normalization_df.head()"
      ],
      "metadata": {
        "id": "qOxS7hA3y_2W"
      },
      "execution_count": null,
      "outputs": []
    },
    {
      "cell_type": "code",
      "source": [
        "normalization_df.describe()"
      ],
      "metadata": {
        "id": "HwfhtmAgzBBv"
      },
      "execution_count": null,
      "outputs": []
    },
    {
      "cell_type": "code",
      "source": [
        "#MinMaxScaler 함수 구현하기\n",
        "normalization_df = (cust_data_num - cust_data_num.min())/(cust_data_num.max()-cust_data_num.min())\n",
        "normalization_df.head()"
      ],
      "metadata": {
        "id": "K1J8ne-qzCgR"
      },
      "execution_count": null,
      "outputs": []
    },
    {
      "cell_type": "markdown",
      "source": [
        "### <b>One-Hot Encording\n",
        "\n",
        "원-핫 인코딩은 간단히 말해 한 개의 요소는 True, 나머지 요소는 False로 만들어 주는 기법입니다.    \n",
        "기계 학습의 주요 문제 중 하나는 많은 알고리즘이 범주 형 데이터를 입력값으로 수용하지 않는다는 점인데, 이를 One-Hot Encording을 통해 해결 할 수 있습니다.    \n",
        "정수 치환으로 해결 할 수도 있지만 이럴 경우 성능이 저하되거나 예상치 못한 결과가 발생할 수 있습니다."
      ],
      "metadata": {
        "id": "_-0CSznQzEWm"
      }
    },
    {
      "cell_type": "code",
      "source": [
        "#pandas에서는 get_dummies함수를 사용하면 쉽게 One-Hot Encording이 가능\n",
        "cust1 = pd.get_dummies(cust_data['class'])"
      ],
      "metadata": {
        "id": "3LYWHkTAzFjm"
      },
      "execution_count": null,
      "outputs": []
    },
    {
      "cell_type": "code",
      "source": [
        "# 문제\n",
        "# cust_data 데이터 프레임 내 termination 변수를 원 핫 인코딩하여 범주형 데이터를 수치형 데이터로 변경하시오\n",
        "cust2 ="
      ],
      "metadata": {
        "id": "C_OnKpZZPk3F"
      },
      "execution_count": null,
      "outputs": []
    },
    {
      "cell_type": "code",
      "source": [
        "#columns를 사용해서 기존 테이블에 One-Hot Encording으로 치환된 변수 생성하기\n",
        "cust_data_end=pd.get_dummies(cust_data, columns=['class'])\n",
        "cust_data_end"
      ],
      "metadata": {
        "id": "gk14n1ixzGwm"
      },
      "execution_count": null,
      "outputs": []
    }
  ]
}